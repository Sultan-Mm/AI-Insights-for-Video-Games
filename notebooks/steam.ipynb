{
 "cells": [
  {
   "cell_type": "code",
   "execution_count": 1,
   "metadata": {},
   "outputs": [],
   "source": [
    "import pandas as pd\n",
    "from sklearn.preprocessing import MultiLabelBinarizer\n"
   ]
  },
  {
   "cell_type": "code",
   "execution_count": 2,
   "metadata": {},
   "outputs": [],
   "source": [
    "df1= pd.read_csv(\"../raw_data/games-features.csv\")"
   ]
  },
  {
   "cell_type": "code",
   "execution_count": 3,
   "metadata": {},
   "outputs": [
    {
     "name": "stderr",
     "output_type": "stream",
     "text": [
      "/tmp/ipykernel_31995/3774196736.py:1: DtypeWarning: Columns (3,36) have mixed types. Specify dtype option on import or set low_memory=False.\n",
      "  df2 = pd.read_csv(\"../raw_data/93182_steam_games.csv\")\n"
     ]
    }
   ],
   "source": [
    "df2 = pd.read_csv(\"../raw_data/93182_steam_games.csv\")"
   ]
  },
  {
   "cell_type": "code",
   "execution_count": 4,
   "metadata": {},
   "outputs": [],
   "source": [
    "games_may2024= pd.read_csv('../raw_data/games_may2024_cleaned.csv')"
   ]
  },
  {
   "cell_type": "code",
   "execution_count": 5,
   "metadata": {},
   "outputs": [],
   "source": [
    "steamchart= pd.read_csv(\"../raw_data/SteamCharts.csv\",encoding='ISO-8859-1')"
   ]
  },
  {
   "cell_type": "markdown",
   "metadata": {},
   "source": [
    "# Clean and process data"
   ]
  },
  {
   "cell_type": "markdown",
   "metadata": {},
   "source": [
    "## 93182_steam_games clean and process"
   ]
  },
  {
   "cell_type": "code",
   "execution_count": 6,
   "metadata": {},
   "outputs": [],
   "source": [
    "# drop_col['Score rank', 'Metacritic url', 'Reviews', \"Tags\", 'nots', \"Estimated owners\", 'Website', 'Support url', 'Support email', 'Movies', 'About the game', 'Screenshots']\n",
    "# drop_row['Name','Publishers', 'Categories','Genres','Developers']"
   ]
  },
  {
   "cell_type": "code",
   "execution_count": 7,
   "metadata": {},
   "outputs": [
    {
     "data": {
      "text/plain": [
       "Score rank                    93175\n",
       "Metacritic url                89159\n",
       "Reviews                       82583\n",
       "Tags                          80264\n",
       "Notes                         77843\n",
       "Estimated owners              76720\n",
       "Website                       51528\n",
       "Support url                   48954\n",
       "Support email                 15834\n",
       "Movies                         7647\n",
       "Publishers                     5302\n",
       "Categories                     5295\n",
       "Developers                     4833\n",
       "Genres                         4801\n",
       "About the game                 4790\n",
       "Screenshots                    2813\n",
       "Name                              3\n",
       "Price                             0\n",
       "Release date                      0\n",
       "AppID                             0\n",
       "Required age                      0\n",
       "Peak CCU                          0\n",
       "Full audio languages              0\n",
       "Positive                          0\n",
       "User score                        0\n",
       "Metacritic score                  0\n",
       "Linux                             0\n",
       "Windows                           0\n",
       "Mac                               0\n",
       "DLC count                         0\n",
       "Header image                      0\n",
       "Supported languages               0\n",
       "Average playtime two weeks        0\n",
       "Median playtime forever           0\n",
       "Recommendations                   0\n",
       "Negative                          0\n",
       "Achievements                      0\n",
       "Average playtime forever          0\n",
       "Median playtime two weeks         0\n",
       "dtype: int64"
      ]
     },
     "execution_count": 7,
     "metadata": {},
     "output_type": "execute_result"
    }
   ],
   "source": [
    "df2.isnull().sum().sort_values(ascending=False)"
   ]
  },
  {
   "cell_type": "code",
   "execution_count": 8,
   "metadata": {},
   "outputs": [],
   "source": [
    "df2[\"Release date\"]= pd.to_datetime(df2['Release date'], errors= 'coerce' )"
   ]
  },
  {
   "cell_type": "code",
   "execution_count": 9,
   "metadata": {},
   "outputs": [],
   "source": [
    "df2['year'] = df2['Release date'].dt.year\n",
    "df2['month'] = df2['Release date'].dt.month\n",
    "df2['day'] = df2['Release date'].dt.day"
   ]
  },
  {
   "cell_type": "code",
   "execution_count": 10,
   "metadata": {},
   "outputs": [
    {
     "data": {
      "text/plain": [
       "Price\n",
       "0.00    18473\n",
       "4.99     9760\n",
       "9.99     8363\n",
       "0.99     8326\n",
       "1.99     6361\n",
       "        ...  \n",
       "8.50        1\n",
       "5.57        1\n",
       "3.94        1\n",
       "2.87        1\n",
       "4.67        1\n",
       "Name: count, Length: 572, dtype: int64"
      ]
     },
     "execution_count": 10,
     "metadata": {},
     "output_type": "execute_result"
    }
   ],
   "source": [
    "df2['Price'].value_counts()"
   ]
  },
  {
   "cell_type": "code",
   "execution_count": 11,
   "metadata": {},
   "outputs": [
    {
     "data": {
      "text/plain": [
       "Peak CCU\n",
       "0       89671\n",
       "1        1151\n",
       "2         448\n",
       "3         220\n",
       "4         176\n",
       "        ...  \n",
       "185         1\n",
       "1151        1\n",
       "237         1\n",
       "173         1\n",
       "612         1\n",
       "Name: count, Length: 404, dtype: int64"
      ]
     },
     "execution_count": 11,
     "metadata": {},
     "output_type": "execute_result"
    }
   ],
   "source": [
    "# The peak number of concurrent users (CCU) playing the game in the last 24 hours.\n",
    "df2['Peak CCU'].value_counts()"
   ]
  },
  {
   "cell_type": "code",
   "execution_count": 12,
   "metadata": {},
   "outputs": [],
   "source": [
    "# drop unnseccry columns and missing value in rows for other columns\n",
    "df2 = df2.drop(columns=['Score rank', 'Metacritic url', 'Reviews', 'Tags', 'Notes',\n",
    "                      'Estimated owners', 'Website', 'Support url', 'Support email',\n",
    "                      'Movies', 'About the game', 'Screenshots',\"Average playtime forever\",\"Average playtime two weeks\",\n",
    "                        \"Median playtime forever\", \"Median playtime two weeks\",\n",
    "                      \"Full audio languages\",\"Header image\", \"Metacritic score\", \"User score\",\"Negative\",\"Positive\",\n",
    "                      'Peak CCU'])\n",
    "df2 = df2.dropna(subset=['Name', 'Publishers', 'Categories', 'Genres', 'Developers', 'Release date'])"
   ]
  },
  {
   "cell_type": "code",
   "execution_count": 13,
   "metadata": {},
   "outputs": [
    {
     "data": {
      "text/plain": [
       "DLC count\n",
       "0      72768\n",
       "1       8876\n",
       "2       2265\n",
       "3        893\n",
       "4        470\n",
       "       ...  \n",
       "65         1\n",
       "63         1\n",
       "461        1\n",
       "104        1\n",
       "252        1\n",
       "Name: count, Length: 106, dtype: int64"
      ]
     },
     "execution_count": 13,
     "metadata": {},
     "output_type": "execute_result"
    }
   ],
   "source": [
    "# Description: The number of downloadable content (DLC) packs available for the game. If the value is 0, there are no DLCs.\n",
    "df2[\"DLC count\"].value_counts()"
   ]
  },
  {
   "cell_type": "code",
   "execution_count": 15,
   "metadata": {},
   "outputs": [
    {
     "data": {
      "text/html": [
       "<div>\n",
       "<style scoped>\n",
       "    .dataframe tbody tr th:only-of-type {\n",
       "        vertical-align: middle;\n",
       "    }\n",
       "\n",
       "    .dataframe tbody tr th {\n",
       "        vertical-align: top;\n",
       "    }\n",
       "\n",
       "    .dataframe thead th {\n",
       "        text-align: right;\n",
       "    }\n",
       "</style>\n",
       "<table border=\"1\" class=\"dataframe\">\n",
       "  <thead>\n",
       "    <tr style=\"text-align: right;\">\n",
       "      <th></th>\n",
       "      <th>AppID</th>\n",
       "      <th>Name</th>\n",
       "      <th>Release date</th>\n",
       "      <th>Required age</th>\n",
       "      <th>Price</th>\n",
       "      <th>DLC count</th>\n",
       "      <th>Supported languages</th>\n",
       "      <th>Windows</th>\n",
       "      <th>Mac</th>\n",
       "      <th>Linux</th>\n",
       "      <th>Achievements</th>\n",
       "      <th>Recommendations</th>\n",
       "      <th>Developers</th>\n",
       "      <th>Publishers</th>\n",
       "      <th>Categories</th>\n",
       "      <th>Genres</th>\n",
       "      <th>year</th>\n",
       "      <th>month</th>\n",
       "      <th>day</th>\n",
       "    </tr>\n",
       "  </thead>\n",
       "  <tbody>\n",
       "    <tr>\n",
       "      <th>0</th>\n",
       "      <td>1424640</td>\n",
       "      <td>余烬</td>\n",
       "      <td>2020-10-03</td>\n",
       "      <td>0</td>\n",
       "      <td>3.99</td>\n",
       "      <td>0</td>\n",
       "      <td>['Simplified Chinese']</td>\n",
       "      <td>True</td>\n",
       "      <td>False</td>\n",
       "      <td>False</td>\n",
       "      <td>44</td>\n",
       "      <td>0</td>\n",
       "      <td>宁夏华夏西部影视城有限公司</td>\n",
       "      <td>宁夏华夏西部影视城有限公司</td>\n",
       "      <td>Single-player,Family Sharing</td>\n",
       "      <td>Adventure,Casual,Indie,RPG</td>\n",
       "      <td>2020.0</td>\n",
       "      <td>10.0</td>\n",
       "      <td>3.0</td>\n",
       "    </tr>\n",
       "    <tr>\n",
       "      <th>1</th>\n",
       "      <td>402890</td>\n",
       "      <td>Nyctophilia</td>\n",
       "      <td>2015-09-23</td>\n",
       "      <td>0</td>\n",
       "      <td>0.00</td>\n",
       "      <td>0</td>\n",
       "      <td>['English', 'Russian']</td>\n",
       "      <td>True</td>\n",
       "      <td>False</td>\n",
       "      <td>False</td>\n",
       "      <td>0</td>\n",
       "      <td>0</td>\n",
       "      <td>Cat In A Jar Games</td>\n",
       "      <td>Cat In A Jar Games</td>\n",
       "      <td>Single-player</td>\n",
       "      <td>Adventure,Free To Play,Indie</td>\n",
       "      <td>2015.0</td>\n",
       "      <td>9.0</td>\n",
       "      <td>23.0</td>\n",
       "    </tr>\n",
       "    <tr>\n",
       "      <th>2</th>\n",
       "      <td>1151740</td>\n",
       "      <td>Prison Princess</td>\n",
       "      <td>2020-04-02</td>\n",
       "      <td>0</td>\n",
       "      <td>19.99</td>\n",
       "      <td>0</td>\n",
       "      <td>['English', 'Simplified Chinese', 'Traditional...</td>\n",
       "      <td>True</td>\n",
       "      <td>False</td>\n",
       "      <td>False</td>\n",
       "      <td>21</td>\n",
       "      <td>299</td>\n",
       "      <td>qureate</td>\n",
       "      <td>qureate</td>\n",
       "      <td>Single-player,Steam Achievements,Full controll...</td>\n",
       "      <td>Adventure,Indie</td>\n",
       "      <td>2020.0</td>\n",
       "      <td>4.0</td>\n",
       "      <td>2.0</td>\n",
       "    </tr>\n",
       "    <tr>\n",
       "      <th>3</th>\n",
       "      <td>875530</td>\n",
       "      <td>Dead In Time</td>\n",
       "      <td>2018-10-12</td>\n",
       "      <td>0</td>\n",
       "      <td>7.99</td>\n",
       "      <td>0</td>\n",
       "      <td>['English', 'Russian']</td>\n",
       "      <td>True</td>\n",
       "      <td>False</td>\n",
       "      <td>False</td>\n",
       "      <td>6</td>\n",
       "      <td>0</td>\n",
       "      <td>Zelenov Artem</td>\n",
       "      <td>Zelenov Artem</td>\n",
       "      <td>Single-player,Full controller support,Family S...</td>\n",
       "      <td>Action,Indie</td>\n",
       "      <td>2018.0</td>\n",
       "      <td>10.0</td>\n",
       "      <td>12.0</td>\n",
       "    </tr>\n",
       "    <tr>\n",
       "      <th>4</th>\n",
       "      <td>1835360</td>\n",
       "      <td>Panacle: Back To Wild</td>\n",
       "      <td>2022-03-11</td>\n",
       "      <td>0</td>\n",
       "      <td>3.99</td>\n",
       "      <td>0</td>\n",
       "      <td>['English', 'Japanese', 'Simplified Chinese', ...</td>\n",
       "      <td>True</td>\n",
       "      <td>False</td>\n",
       "      <td>False</td>\n",
       "      <td>0</td>\n",
       "      <td>0</td>\n",
       "      <td>渡鸦游戏</td>\n",
       "      <td>渡鸦游戏,电钮组</td>\n",
       "      <td>Single-player,Family Sharing</td>\n",
       "      <td>Indie,Strategy,Early Access</td>\n",
       "      <td>2022.0</td>\n",
       "      <td>3.0</td>\n",
       "      <td>11.0</td>\n",
       "    </tr>\n",
       "    <tr>\n",
       "      <th>...</th>\n",
       "      <td>...</td>\n",
       "      <td>...</td>\n",
       "      <td>...</td>\n",
       "      <td>...</td>\n",
       "      <td>...</td>\n",
       "      <td>...</td>\n",
       "      <td>...</td>\n",
       "      <td>...</td>\n",
       "      <td>...</td>\n",
       "      <td>...</td>\n",
       "      <td>...</td>\n",
       "      <td>...</td>\n",
       "      <td>...</td>\n",
       "      <td>...</td>\n",
       "      <td>...</td>\n",
       "      <td>...</td>\n",
       "      <td>...</td>\n",
       "      <td>...</td>\n",
       "      <td>...</td>\n",
       "    </tr>\n",
       "    <tr>\n",
       "      <th>93177</th>\n",
       "      <td>2251030</td>\n",
       "      <td>Mutant Monty (C64/CPC/Spectrum)</td>\n",
       "      <td>2023-01-05</td>\n",
       "      <td>0</td>\n",
       "      <td>4.99</td>\n",
       "      <td>0</td>\n",
       "      <td>['English']</td>\n",
       "      <td>True</td>\n",
       "      <td>False</td>\n",
       "      <td>False</td>\n",
       "      <td>0</td>\n",
       "      <td>0</td>\n",
       "      <td>Artic Computing</td>\n",
       "      <td>Pixel Games UK</td>\n",
       "      <td>Single-player,Partial Controller Support,Steam...</td>\n",
       "      <td>Action</td>\n",
       "      <td>2023.0</td>\n",
       "      <td>1.0</td>\n",
       "      <td>5.0</td>\n",
       "    </tr>\n",
       "    <tr>\n",
       "      <th>93178</th>\n",
       "      <td>1330890</td>\n",
       "      <td>Crystal Caves HD</td>\n",
       "      <td>2020-10-15</td>\n",
       "      <td>0</td>\n",
       "      <td>7.99</td>\n",
       "      <td>0</td>\n",
       "      <td>['English']</td>\n",
       "      <td>True</td>\n",
       "      <td>False</td>\n",
       "      <td>True</td>\n",
       "      <td>32</td>\n",
       "      <td>270</td>\n",
       "      <td>Emberheart Games</td>\n",
       "      <td>Apogee Entertainment</td>\n",
       "      <td>Single-player,Steam Achievements,Full controll...</td>\n",
       "      <td>Action</td>\n",
       "      <td>2020.0</td>\n",
       "      <td>10.0</td>\n",
       "      <td>15.0</td>\n",
       "    </tr>\n",
       "    <tr>\n",
       "      <th>93179</th>\n",
       "      <td>1844230</td>\n",
       "      <td>Malicious ReloadⅡ</td>\n",
       "      <td>2023-09-05</td>\n",
       "      <td>0</td>\n",
       "      <td>5.99</td>\n",
       "      <td>0</td>\n",
       "      <td>['Japanese', 'English', 'Simplified Chinese', ...</td>\n",
       "      <td>True</td>\n",
       "      <td>False</td>\n",
       "      <td>False</td>\n",
       "      <td>0</td>\n",
       "      <td>0</td>\n",
       "      <td>UNDER HILL</td>\n",
       "      <td>Playmeow</td>\n",
       "      <td>Single-player,Family Sharing</td>\n",
       "      <td>Action,Adventure,Simulation</td>\n",
       "      <td>2023.0</td>\n",
       "      <td>9.0</td>\n",
       "      <td>5.0</td>\n",
       "    </tr>\n",
       "    <tr>\n",
       "      <th>93180</th>\n",
       "      <td>2623690</td>\n",
       "      <td>Mutant Frog</td>\n",
       "      <td>2024-01-27</td>\n",
       "      <td>0</td>\n",
       "      <td>0.99</td>\n",
       "      <td>0</td>\n",
       "      <td>['English']</td>\n",
       "      <td>True</td>\n",
       "      <td>False</td>\n",
       "      <td>False</td>\n",
       "      <td>0</td>\n",
       "      <td>0</td>\n",
       "      <td>Run-O Games</td>\n",
       "      <td>Run-O Games</td>\n",
       "      <td>Single-player,Family Sharing</td>\n",
       "      <td>Action,Adventure,Casual,Indie</td>\n",
       "      <td>2024.0</td>\n",
       "      <td>1.0</td>\n",
       "      <td>27.0</td>\n",
       "    </tr>\n",
       "    <tr>\n",
       "      <th>93181</th>\n",
       "      <td>2313950</td>\n",
       "      <td>CRAZY GUY</td>\n",
       "      <td>2023-03-20</td>\n",
       "      <td>0</td>\n",
       "      <td>9.99</td>\n",
       "      <td>0</td>\n",
       "      <td>['English', 'Russian']</td>\n",
       "      <td>True</td>\n",
       "      <td>False</td>\n",
       "      <td>False</td>\n",
       "      <td>21</td>\n",
       "      <td>0</td>\n",
       "      <td>NIK Studios</td>\n",
       "      <td>NIK Studios</td>\n",
       "      <td>Single-player,Steam Achievements,Family Sharing</td>\n",
       "      <td>Action,Adventure,Casual</td>\n",
       "      <td>2023.0</td>\n",
       "      <td>3.0</td>\n",
       "      <td>20.0</td>\n",
       "    </tr>\n",
       "  </tbody>\n",
       "</table>\n",
       "<p>86780 rows × 19 columns</p>\n",
       "</div>"
      ],
      "text/plain": [
       "         AppID                             Name Release date  Required age  \\\n",
       "0      1424640                               余烬   2020-10-03             0   \n",
       "1       402890                      Nyctophilia   2015-09-23             0   \n",
       "2      1151740                  Prison Princess   2020-04-02             0   \n",
       "3       875530                     Dead In Time   2018-10-12             0   \n",
       "4      1835360            Panacle: Back To Wild   2022-03-11             0   \n",
       "...        ...                              ...          ...           ...   \n",
       "93177  2251030  Mutant Monty (C64/CPC/Spectrum)   2023-01-05             0   \n",
       "93178  1330890                 Crystal Caves HD   2020-10-15             0   \n",
       "93179  1844230                Malicious ReloadⅡ   2023-09-05             0   \n",
       "93180  2623690                      Mutant Frog   2024-01-27             0   \n",
       "93181  2313950                        CRAZY GUY   2023-03-20             0   \n",
       "\n",
       "       Price  DLC count                                Supported languages  \\\n",
       "0       3.99          0                             ['Simplified Chinese']   \n",
       "1       0.00          0                             ['English', 'Russian']   \n",
       "2      19.99          0  ['English', 'Simplified Chinese', 'Traditional...   \n",
       "3       7.99          0                             ['English', 'Russian']   \n",
       "4       3.99          0  ['English', 'Japanese', 'Simplified Chinese', ...   \n",
       "...      ...        ...                                                ...   \n",
       "93177   4.99          0                                        ['English']   \n",
       "93178   7.99          0                                        ['English']   \n",
       "93179   5.99          0  ['Japanese', 'English', 'Simplified Chinese', ...   \n",
       "93180   0.99          0                                        ['English']   \n",
       "93181   9.99          0                             ['English', 'Russian']   \n",
       "\n",
       "       Windows    Mac  Linux  Achievements  Recommendations  \\\n",
       "0         True  False  False            44                0   \n",
       "1         True  False  False             0                0   \n",
       "2         True  False  False            21              299   \n",
       "3         True  False  False             6                0   \n",
       "4         True  False  False             0                0   \n",
       "...        ...    ...    ...           ...              ...   \n",
       "93177     True  False  False             0                0   \n",
       "93178     True  False   True            32              270   \n",
       "93179     True  False  False             0                0   \n",
       "93180     True  False  False             0                0   \n",
       "93181     True  False  False            21                0   \n",
       "\n",
       "               Developers            Publishers  \\\n",
       "0           宁夏华夏西部影视城有限公司         宁夏华夏西部影视城有限公司   \n",
       "1      Cat In A Jar Games    Cat In A Jar Games   \n",
       "2                 qureate               qureate   \n",
       "3           Zelenov Artem         Zelenov Artem   \n",
       "4                    渡鸦游戏              渡鸦游戏,电钮组   \n",
       "...                   ...                   ...   \n",
       "93177     Artic Computing        Pixel Games UK   \n",
       "93178    Emberheart Games  Apogee Entertainment   \n",
       "93179          UNDER HILL              Playmeow   \n",
       "93180         Run-O Games           Run-O Games   \n",
       "93181         NIK Studios           NIK Studios   \n",
       "\n",
       "                                              Categories  \\\n",
       "0                           Single-player,Family Sharing   \n",
       "1                                          Single-player   \n",
       "2      Single-player,Steam Achievements,Full controll...   \n",
       "3      Single-player,Full controller support,Family S...   \n",
       "4                           Single-player,Family Sharing   \n",
       "...                                                  ...   \n",
       "93177  Single-player,Partial Controller Support,Steam...   \n",
       "93178  Single-player,Steam Achievements,Full controll...   \n",
       "93179                       Single-player,Family Sharing   \n",
       "93180                       Single-player,Family Sharing   \n",
       "93181    Single-player,Steam Achievements,Family Sharing   \n",
       "\n",
       "                              Genres    year  month   day  \n",
       "0         Adventure,Casual,Indie,RPG  2020.0   10.0   3.0  \n",
       "1       Adventure,Free To Play,Indie  2015.0    9.0  23.0  \n",
       "2                    Adventure,Indie  2020.0    4.0   2.0  \n",
       "3                       Action,Indie  2018.0   10.0  12.0  \n",
       "4        Indie,Strategy,Early Access  2022.0    3.0  11.0  \n",
       "...                              ...     ...    ...   ...  \n",
       "93177                         Action  2023.0    1.0   5.0  \n",
       "93178                         Action  2020.0   10.0  15.0  \n",
       "93179    Action,Adventure,Simulation  2023.0    9.0   5.0  \n",
       "93180  Action,Adventure,Casual,Indie  2024.0    1.0  27.0  \n",
       "93181        Action,Adventure,Casual  2023.0    3.0  20.0  \n",
       "\n",
       "[86780 rows x 19 columns]"
      ]
     },
     "execution_count": 15,
     "metadata": {},
     "output_type": "execute_result"
    }
   ],
   "source": [
    "df2"
   ]
  },
  {
   "cell_type": "code",
   "execution_count": 16,
   "metadata": {},
   "outputs": [],
   "source": [
    "# Categories encoded one -hot"
   ]
  },
  {
   "cell_type": "code",
   "execution_count": 17,
   "metadata": {},
   "outputs": [
    {
     "data": {
      "text/plain": [
       "Genres\n",
       "Casual,Indie                                                                                                                                       5000\n",
       "Action,Indie                                                                                                                                       4677\n",
       "Action,Adventure,Indie                                                                                                                             4070\n",
       "Adventure,Indie                                                                                                                                    3370\n",
       "Adventure,Casual,Indie                                                                                                                             2798\n",
       "                                                                                                                                                   ... \n",
       "Adventure,Indie,Massively Multiplayer,RPG,Simulation,Strategy,Free To Play                                                                            1\n",
       "Action,Adventure,Casual,Free To Play,Massively Multiplayer,RPG,Simulation,Strategy                                                                    1\n",
       "Action,Casual,Free To Play,Indie,Massively Multiplayer,Strategy,Early Access                                                                          1\n",
       "Utilities,Video Production,Web Publishing                                                                                                             1\n",
       "Animation & Modeling,Design & Illustration,Education,Photo Editing,Software Training,Utilities,Video Production,Web Publishing,Game Development       1\n",
       "Name: count, Length: 2492, dtype: int64"
      ]
     },
     "execution_count": 17,
     "metadata": {},
     "output_type": "execute_result"
    }
   ],
   "source": [
    "df2['Genres'].value_counts()"
   ]
  },
  {
   "cell_type": "code",
   "execution_count": 18,
   "metadata": {},
   "outputs": [],
   "source": [
    "# Step 1: Split the 'Genres' column into separate genres and remove any leading/trailing spaces\n",
    "df2['Genres_split'] = df2['Genres'].str.split(',')\n",
    "\n",
    "# Step 2: Create new binary columns for each unique genre using One-Hot Encoding\n",
    "# This will create a binary column (1 or 0) for each unique genre\n",
    "df_genres_expanded = df2['Genres_split'].apply(lambda genres: pd.Series(1, index=genres)).fillna(0)\n",
    "\n",
    "# Step 3: Merge the expanded genres DataFrame back into the original DataFrame\n",
    "df_final = pd.concat([df2, df_genres_expanded], axis=1)\n",
    "\n",
    "# Step 4: Drop the intermediate 'Genres_split' column (optional)\n",
    "df_final.drop(columns=['Genres_split'], inplace=True)"
   ]
  },
  {
   "cell_type": "code",
   "execution_count": 19,
   "metadata": {},
   "outputs": [
    {
     "data": {
      "text/plain": [
       "Index(['AppID', 'Name', 'Release date', 'Required age', 'Price', 'DLC count',\n",
       "       'Supported languages', 'Windows', 'Mac', 'Linux', 'Achievements',\n",
       "       'Recommendations', 'Developers', 'Publishers', 'Categories', 'Genres',\n",
       "       'year', 'month', 'day', 'Adventure', 'Casual', 'Indie', 'RPG',\n",
       "       'Free To Play', 'Action', 'Strategy', 'Early Access', 'Simulation',\n",
       "       'Racing', 'Sports', 'Massively Multiplayer', 'Education',\n",
       "       'Game Development', 'Violent', 'Utilities', 'Audio Production', 'Gore',\n",
       "       'Design & Illustration', 'Video Production', 'Sexual Content', 'Nudity',\n",
       "       'Photo Editing', 'Web Publishing', 'Animation & Modeling',\n",
       "       'Software Training', 'Accounting', 'Movie', 'Documentary', 'Episodic',\n",
       "       'Short', 'Tutorial', '360 Video'],\n",
       "      dtype='object')"
      ]
     },
     "execution_count": 19,
     "metadata": {},
     "output_type": "execute_result"
    }
   ],
   "source": [
    "df_final.columns"
   ]
  },
  {
   "cell_type": "code",
   "execution_count": 20,
   "metadata": {},
   "outputs": [
    {
     "data": {
      "text/plain": [
       "Categories\n",
       "Single-player,Family Sharing                                                                                                                                                                                                19089\n",
       "Single-player,Steam Achievements,Family Sharing                                                                                                                                                                              7622\n",
       "Single-player                                                                                                                                                                                                                3460\n",
       "Single-player,Steam Achievements,Steam Cloud,Family Sharing                                                                                                                                                                  3216\n",
       "Single-player,Steam Achievements,Full controller support,Steam Cloud,Family Sharing                                                                                                                                          2375\n",
       "                                                                                                                                                                                                                            ...  \n",
       "Single-player,Steam Achievements,Tracked Controller Support,Partial Controller Support,Steam Cloud                                                                                                                              1\n",
       "Single-player,Multi-player,PvP,Online PvP,LAN PvP,Co-op,Online Co-op,LAN Co-op,Cross-Platform Multiplayer,Steam Cloud,Includes level editor                                                                                     1\n",
       "Single-player,Steam Achievements,Full controller support,VR Supported,Steam Trading Cards,Steam Cloud,Steam Leaderboards,Remote Play on TV,Family Sharing                                                                       1\n",
       "Multi-player,MMO,PvP,Online PvP,Co-op                                                                                                                                                                                           1\n",
       "Single-player,Multi-player,PvP,Online PvP,Shared/Split Screen PvP,Shared/Split Screen,Steam Achievements,Full controller support,Steam Cloud,Steam Leaderboards,Commentary available,Remote Play Together,Family Sharing        1\n",
       "Name: count, Length: 7334, dtype: int64"
      ]
     },
     "execution_count": 20,
     "metadata": {},
     "output_type": "execute_result"
    }
   ],
   "source": [
    "df_final[\"Categories\"].value_counts()"
   ]
  },
  {
   "cell_type": "code",
   "execution_count": 21,
   "metadata": {},
   "outputs": [],
   "source": [
    "# Step 1: Split the 'Categories' column by commas and remove leading/trailing spaces\n",
    "df_final['Categories_split'] = df_final['Categories'].str.split(',')\n",
    "\n",
    "# Step 2: Apply one-hot encoding using MultiLabelBinarizer\n",
    "mlb = MultiLabelBinarizer()\n",
    "categories_encoded = mlb.fit_transform(df_final['Categories_split'])\n",
    "\n",
    "# Step 3: Convert the encoded categories back into a DataFrame\n",
    "categories_df = pd.DataFrame(categories_encoded, columns=mlb.classes_)\n",
    "\n",
    "# Step 4: Merge the encoded categories DataFrame with the original DataFrame\n",
    "df_final = df_final.merge(categories_df, left_index=True, right_index=True)\n",
    "# Step 5: Drop the intermediate 'Categories_split' column (optional)\n",
    "df_final.drop(columns=['Categories_split'], inplace=True)"
   ]
  },
  {
   "cell_type": "code",
   "execution_count": 22,
   "metadata": {},
   "outputs": [
    {
     "data": {
      "text/html": [
       "<div>\n",
       "<style scoped>\n",
       "    .dataframe tbody tr th:only-of-type {\n",
       "        vertical-align: middle;\n",
       "    }\n",
       "\n",
       "    .dataframe tbody tr th {\n",
       "        vertical-align: top;\n",
       "    }\n",
       "\n",
       "    .dataframe thead th {\n",
       "        text-align: right;\n",
       "    }\n",
       "</style>\n",
       "<table border=\"1\" class=\"dataframe\">\n",
       "  <thead>\n",
       "    <tr style=\"text-align: right;\">\n",
       "      <th></th>\n",
       "      <th>AppID</th>\n",
       "      <th>Name</th>\n",
       "      <th>Release date</th>\n",
       "      <th>Required age</th>\n",
       "      <th>Price</th>\n",
       "      <th>DLC count</th>\n",
       "      <th>Supported languages</th>\n",
       "      <th>Windows</th>\n",
       "      <th>Mac</th>\n",
       "      <th>Linux</th>\n",
       "      <th>...</th>\n",
       "      <th>Steam Timeline</th>\n",
       "      <th>Steam Trading Cards</th>\n",
       "      <th>Steam Turn Notifications</th>\n",
       "      <th>Steam Workshop</th>\n",
       "      <th>SteamVR Collectibles</th>\n",
       "      <th>Tracked Controller Support</th>\n",
       "      <th>VR Only</th>\n",
       "      <th>VR Support</th>\n",
       "      <th>VR Supported</th>\n",
       "      <th>Valve Anti-Cheat enabled</th>\n",
       "    </tr>\n",
       "  </thead>\n",
       "  <tbody>\n",
       "    <tr>\n",
       "      <th>0</th>\n",
       "      <td>1424640</td>\n",
       "      <td>余烬</td>\n",
       "      <td>2020-10-03</td>\n",
       "      <td>0</td>\n",
       "      <td>3.99</td>\n",
       "      <td>0</td>\n",
       "      <td>['Simplified Chinese']</td>\n",
       "      <td>True</td>\n",
       "      <td>False</td>\n",
       "      <td>False</td>\n",
       "      <td>...</td>\n",
       "      <td>0</td>\n",
       "      <td>0</td>\n",
       "      <td>0</td>\n",
       "      <td>0</td>\n",
       "      <td>0</td>\n",
       "      <td>0</td>\n",
       "      <td>0</td>\n",
       "      <td>0</td>\n",
       "      <td>0</td>\n",
       "      <td>0</td>\n",
       "    </tr>\n",
       "    <tr>\n",
       "      <th>1</th>\n",
       "      <td>402890</td>\n",
       "      <td>Nyctophilia</td>\n",
       "      <td>2015-09-23</td>\n",
       "      <td>0</td>\n",
       "      <td>0.00</td>\n",
       "      <td>0</td>\n",
       "      <td>['English', 'Russian']</td>\n",
       "      <td>True</td>\n",
       "      <td>False</td>\n",
       "      <td>False</td>\n",
       "      <td>...</td>\n",
       "      <td>0</td>\n",
       "      <td>0</td>\n",
       "      <td>0</td>\n",
       "      <td>0</td>\n",
       "      <td>0</td>\n",
       "      <td>0</td>\n",
       "      <td>0</td>\n",
       "      <td>0</td>\n",
       "      <td>0</td>\n",
       "      <td>0</td>\n",
       "    </tr>\n",
       "    <tr>\n",
       "      <th>2</th>\n",
       "      <td>1151740</td>\n",
       "      <td>Prison Princess</td>\n",
       "      <td>2020-04-02</td>\n",
       "      <td>0</td>\n",
       "      <td>19.99</td>\n",
       "      <td>0</td>\n",
       "      <td>['English', 'Simplified Chinese', 'Traditional...</td>\n",
       "      <td>True</td>\n",
       "      <td>False</td>\n",
       "      <td>False</td>\n",
       "      <td>...</td>\n",
       "      <td>0</td>\n",
       "      <td>0</td>\n",
       "      <td>0</td>\n",
       "      <td>0</td>\n",
       "      <td>0</td>\n",
       "      <td>0</td>\n",
       "      <td>0</td>\n",
       "      <td>0</td>\n",
       "      <td>0</td>\n",
       "      <td>0</td>\n",
       "    </tr>\n",
       "    <tr>\n",
       "      <th>3</th>\n",
       "      <td>875530</td>\n",
       "      <td>Dead In Time</td>\n",
       "      <td>2018-10-12</td>\n",
       "      <td>0</td>\n",
       "      <td>7.99</td>\n",
       "      <td>0</td>\n",
       "      <td>['English', 'Russian']</td>\n",
       "      <td>True</td>\n",
       "      <td>False</td>\n",
       "      <td>False</td>\n",
       "      <td>...</td>\n",
       "      <td>0</td>\n",
       "      <td>0</td>\n",
       "      <td>0</td>\n",
       "      <td>0</td>\n",
       "      <td>0</td>\n",
       "      <td>0</td>\n",
       "      <td>0</td>\n",
       "      <td>0</td>\n",
       "      <td>0</td>\n",
       "      <td>0</td>\n",
       "    </tr>\n",
       "    <tr>\n",
       "      <th>4</th>\n",
       "      <td>1835360</td>\n",
       "      <td>Panacle: Back To Wild</td>\n",
       "      <td>2022-03-11</td>\n",
       "      <td>0</td>\n",
       "      <td>3.99</td>\n",
       "      <td>0</td>\n",
       "      <td>['English', 'Japanese', 'Simplified Chinese', ...</td>\n",
       "      <td>True</td>\n",
       "      <td>False</td>\n",
       "      <td>False</td>\n",
       "      <td>...</td>\n",
       "      <td>0</td>\n",
       "      <td>0</td>\n",
       "      <td>0</td>\n",
       "      <td>0</td>\n",
       "      <td>0</td>\n",
       "      <td>0</td>\n",
       "      <td>0</td>\n",
       "      <td>0</td>\n",
       "      <td>0</td>\n",
       "      <td>0</td>\n",
       "    </tr>\n",
       "  </tbody>\n",
       "</table>\n",
       "<p>5 rows × 94 columns</p>\n",
       "</div>"
      ],
      "text/plain": [
       "     AppID                   Name Release date  Required age  Price  \\\n",
       "0  1424640                     余烬   2020-10-03             0   3.99   \n",
       "1   402890            Nyctophilia   2015-09-23             0   0.00   \n",
       "2  1151740        Prison Princess   2020-04-02             0  19.99   \n",
       "3   875530           Dead In Time   2018-10-12             0   7.99   \n",
       "4  1835360  Panacle: Back To Wild   2022-03-11             0   3.99   \n",
       "\n",
       "   DLC count                                Supported languages  Windows  \\\n",
       "0          0                             ['Simplified Chinese']     True   \n",
       "1          0                             ['English', 'Russian']     True   \n",
       "2          0  ['English', 'Simplified Chinese', 'Traditional...     True   \n",
       "3          0                             ['English', 'Russian']     True   \n",
       "4          0  ['English', 'Japanese', 'Simplified Chinese', ...     True   \n",
       "\n",
       "     Mac  Linux  ...  Steam Timeline  Steam Trading Cards  \\\n",
       "0  False  False  ...               0                    0   \n",
       "1  False  False  ...               0                    0   \n",
       "2  False  False  ...               0                    0   \n",
       "3  False  False  ...               0                    0   \n",
       "4  False  False  ...               0                    0   \n",
       "\n",
       "  Steam Turn Notifications Steam Workshop SteamVR Collectibles  \\\n",
       "0                        0              0                    0   \n",
       "1                        0              0                    0   \n",
       "2                        0              0                    0   \n",
       "3                        0              0                    0   \n",
       "4                        0              0                    0   \n",
       "\n",
       "  Tracked Controller Support  VR Only  VR Support  VR Supported  \\\n",
       "0                          0        0           0             0   \n",
       "1                          0        0           0             0   \n",
       "2                          0        0           0             0   \n",
       "3                          0        0           0             0   \n",
       "4                          0        0           0             0   \n",
       "\n",
       "   Valve Anti-Cheat enabled  \n",
       "0                         0  \n",
       "1                         0  \n",
       "2                         0  \n",
       "3                         0  \n",
       "4                         0  \n",
       "\n",
       "[5 rows x 94 columns]"
      ]
     },
     "execution_count": 22,
     "metadata": {},
     "output_type": "execute_result"
    }
   ],
   "source": [
    "df_final.head()"
   ]
  },
  {
   "cell_type": "code",
   "execution_count": 23,
   "metadata": {},
   "outputs": [
    {
     "data": {
      "text/plain": [
       "Required age\n",
       "0     79713\n",
       "17      692\n",
       "18      148\n",
       "13      148\n",
       "16       31\n",
       "12       22\n",
       "10       22\n",
       "3         6\n",
       "7         5\n",
       "6         3\n",
       "15        3\n",
       "5         1\n",
       "20        1\n",
       "14        1\n",
       "1         1\n",
       "21        1\n",
       "Name: count, dtype: int64"
      ]
     },
     "execution_count": 23,
     "metadata": {},
     "output_type": "execute_result"
    }
   ],
   "source": [
    "df_final['Required age'].value_counts()"
   ]
  },
  {
   "cell_type": "code",
   "execution_count": 24,
   "metadata": {},
   "outputs": [],
   "source": [
    "def age_ranking(age):\n",
    "    if age == 0:\n",
    "        return 4\n",
    "    elif 1 <= age <= 12:\n",
    "        return 1\n",
    "    elif 13 <= age <= 17:\n",
    "        return 2\n",
    "    elif age >= 18:\n",
    "        return 3\n",
    "    else:\n",
    "        return None\n",
    "\n",
    "df_final['age_ranking'] = df_final['Required age'].apply(age_ranking)"
   ]
  },
  {
   "cell_type": "code",
   "execution_count": null,
   "metadata": {},
   "outputs": [],
   "source": []
  },
  {
   "cell_type": "markdown",
   "metadata": {},
   "source": [
    "## games-features clean and process"
   ]
  },
  {
   "cell_type": "code",
   "execution_count": 25,
   "metadata": {},
   "outputs": [
    {
     "data": {
      "text/plain": [
       "(13357, 78)"
      ]
     },
     "execution_count": 25,
     "metadata": {},
     "output_type": "execute_result"
    }
   ],
   "source": [
    "df1.shape"
   ]
  },
  {
   "cell_type": "code",
   "execution_count": 26,
   "metadata": {},
   "outputs": [
    {
     "data": {
      "text/plain": [
       "Website             3161\n",
       "SupportEmail           2\n",
       "LegalNotice            1\n",
       "SupportURL             1\n",
       "QueryName              1\n",
       "                    ... \n",
       "PCRecReqsText          0\n",
       "LinuxMinReqsText       0\n",
       "LinuxRecReqsText       0\n",
       "MacMinReqsText         0\n",
       "MacRecReqsText         0\n",
       "Length: 78, dtype: int64"
      ]
     },
     "execution_count": 26,
     "metadata": {},
     "output_type": "execute_result"
    }
   ],
   "source": [
    "df1.isnull().sum().sort_values(ascending=False)"
   ]
  },
  {
   "cell_type": "code",
   "execution_count": 27,
   "metadata": {},
   "outputs": [],
   "source": [
    "df1= df1.drop(columns=['CategoryIncludeSrcSDK', 'CategoryInAppPurchase', 'CategoryVRSupport', 'GenreIsNonGame', 'CategoryMMO',\n",
    "                             'CategoryIncludeLevelEditor', 'LinuxReqsHaveRec','MacReqsHaveRec','PlatformLinux','LinuxReqsHaveMin',\n",
    "                             'PlatformMac','MacReqsHaveMin','MovieCount','ScreenshotCount','Website','HeaderImage','LegalNotice','Reviews',\n",
    "                             'SupportedLanguages','MacMinReqsText','LinuxRecReqsText','DRMNotice','LinuxMinReqsText','ExtUserAcctNotice',\n",
    "                             'Background','AboutText','SupportURL','SupportEmail','MacRecReqsText'])"
   ]
  },
  {
   "cell_type": "code",
   "execution_count": 32,
   "metadata": {},
   "outputs": [
    {
     "ename": "KeyError",
     "evalue": "['SupportEmail', 'LegalNotice', 'SupportURL']",
     "output_type": "error",
     "traceback": [
      "\u001b[0;31m---------------------------------------------------------------------------\u001b[0m",
      "\u001b[0;31mKeyError\u001b[0m                                  Traceback (most recent call last)",
      "\u001b[0;32m/tmp/ipykernel_31995/776913179.py\u001b[0m in \u001b[0;36m?\u001b[0;34m()\u001b[0m\n\u001b[0;32m----> 1\u001b[0;31m \u001b[0mdf1\u001b[0m \u001b[0;34m=\u001b[0m \u001b[0mdf1\u001b[0m\u001b[0;34m.\u001b[0m\u001b[0mdropna\u001b[0m\u001b[0;34m(\u001b[0m\u001b[0msubset\u001b[0m\u001b[0;34m=\u001b[0m\u001b[0;34m[\u001b[0m\u001b[0;34m'SupportEmail'\u001b[0m\u001b[0;34m,\u001b[0m \u001b[0;34m'LegalNotice'\u001b[0m\u001b[0;34m,\u001b[0m \u001b[0;34m'SupportURL'\u001b[0m\u001b[0;34m,\u001b[0m \u001b[0;34m'QueryName'\u001b[0m\u001b[0;34m]\u001b[0m\u001b[0;34m)\u001b[0m\u001b[0;34m\u001b[0m\u001b[0;34m\u001b[0m\u001b[0m\n\u001b[0m",
      "\u001b[0;32m~/.pyenv/versions/3.10.6/envs/AI-Insights-for-Video-Games/lib/python3.10/site-packages/pandas/core/frame.py\u001b[0m in \u001b[0;36m?\u001b[0;34m(self, axis, how, thresh, subset, inplace, ignore_index)\u001b[0m\n\u001b[1;32m   6666\u001b[0m             \u001b[0max\u001b[0m \u001b[0;34m=\u001b[0m \u001b[0mself\u001b[0m\u001b[0;34m.\u001b[0m\u001b[0m_get_axis\u001b[0m\u001b[0;34m(\u001b[0m\u001b[0magg_axis\u001b[0m\u001b[0;34m)\u001b[0m\u001b[0;34m\u001b[0m\u001b[0;34m\u001b[0m\u001b[0m\n\u001b[1;32m   6667\u001b[0m             \u001b[0mindices\u001b[0m \u001b[0;34m=\u001b[0m \u001b[0max\u001b[0m\u001b[0;34m.\u001b[0m\u001b[0mget_indexer_for\u001b[0m\u001b[0;34m(\u001b[0m\u001b[0msubset\u001b[0m\u001b[0;34m)\u001b[0m\u001b[0;34m\u001b[0m\u001b[0;34m\u001b[0m\u001b[0m\n\u001b[1;32m   6668\u001b[0m             \u001b[0mcheck\u001b[0m \u001b[0;34m=\u001b[0m \u001b[0mindices\u001b[0m \u001b[0;34m==\u001b[0m \u001b[0;34m-\u001b[0m\u001b[0;36m1\u001b[0m\u001b[0;34m\u001b[0m\u001b[0;34m\u001b[0m\u001b[0m\n\u001b[1;32m   6669\u001b[0m             \u001b[0;32mif\u001b[0m \u001b[0mcheck\u001b[0m\u001b[0;34m.\u001b[0m\u001b[0many\u001b[0m\u001b[0;34m(\u001b[0m\u001b[0;34m)\u001b[0m\u001b[0;34m:\u001b[0m\u001b[0;34m\u001b[0m\u001b[0;34m\u001b[0m\u001b[0m\n\u001b[0;32m-> 6670\u001b[0;31m                 \u001b[0;32mraise\u001b[0m \u001b[0mKeyError\u001b[0m\u001b[0;34m(\u001b[0m\u001b[0mnp\u001b[0m\u001b[0;34m.\u001b[0m\u001b[0marray\u001b[0m\u001b[0;34m(\u001b[0m\u001b[0msubset\u001b[0m\u001b[0;34m)\u001b[0m\u001b[0;34m[\u001b[0m\u001b[0mcheck\u001b[0m\u001b[0;34m]\u001b[0m\u001b[0;34m.\u001b[0m\u001b[0mtolist\u001b[0m\u001b[0;34m(\u001b[0m\u001b[0;34m)\u001b[0m\u001b[0;34m)\u001b[0m\u001b[0;34m\u001b[0m\u001b[0;34m\u001b[0m\u001b[0m\n\u001b[0m\u001b[1;32m   6671\u001b[0m             \u001b[0magg_obj\u001b[0m \u001b[0;34m=\u001b[0m \u001b[0mself\u001b[0m\u001b[0;34m.\u001b[0m\u001b[0mtake\u001b[0m\u001b[0;34m(\u001b[0m\u001b[0mindices\u001b[0m\u001b[0;34m,\u001b[0m \u001b[0maxis\u001b[0m\u001b[0;34m=\u001b[0m\u001b[0magg_axis\u001b[0m\u001b[0;34m)\u001b[0m\u001b[0;34m\u001b[0m\u001b[0;34m\u001b[0m\u001b[0m\n\u001b[1;32m   6672\u001b[0m \u001b[0;34m\u001b[0m\u001b[0m\n\u001b[1;32m   6673\u001b[0m         \u001b[0;32mif\u001b[0m \u001b[0mthresh\u001b[0m \u001b[0;32mis\u001b[0m \u001b[0;32mnot\u001b[0m \u001b[0mlib\u001b[0m\u001b[0;34m.\u001b[0m\u001b[0mno_default\u001b[0m\u001b[0;34m:\u001b[0m\u001b[0;34m\u001b[0m\u001b[0;34m\u001b[0m\u001b[0m\n",
      "\u001b[0;31mKeyError\u001b[0m: ['SupportEmail', 'LegalNotice', 'SupportURL']"
     ]
    }
   ],
   "source": [
    "df1 = df1.dropna(subset=['SupportEmail', 'LegalNotice', 'SupportURL', 'QueryName'])"
   ]
  },
  {
   "cell_type": "code",
   "execution_count": 29,
   "metadata": {},
   "outputs": [],
   "source": [
    "df_final_2=df1.copy()"
   ]
  },
  {
   "cell_type": "code",
   "execution_count": 33,
   "metadata": {},
   "outputs": [
    {
     "data": {
      "text/plain": [
       "QueryName                      1\n",
       "QueryID                        0\n",
       "ResponseID                     0\n",
       "ResponseName                   0\n",
       "ReleaseDate                    0\n",
       "RequiredAge                    0\n",
       "DemoCount                      0\n",
       "DeveloperCount                 0\n",
       "DLCCount                       0\n",
       "Metacritic                     0\n",
       "PackageCount                   0\n",
       "RecommendationCount            0\n",
       "PublisherCount                 0\n",
       "SteamSpyOwners                 0\n",
       "SteamSpyOwnersVariance         0\n",
       "SteamSpyPlayersEstimate        0\n",
       "SteamSpyPlayersVariance        0\n",
       "AchievementCount               0\n",
       "AchievementHighlightedCount    0\n",
       "ControllerSupport              0\n",
       "IsFree                         0\n",
       "FreeVerAvail                   0\n",
       "PurchaseAvail                  0\n",
       "SubscriptionAvail              0\n",
       "PlatformWindows                0\n",
       "PCReqsHaveMin                  0\n",
       "PCReqsHaveRec                  0\n",
       "CategorySinglePlayer           0\n",
       "CategoryMultiplayer            0\n",
       "CategoryCoop                   0\n",
       "GenreIsIndie                   0\n",
       "GenreIsAction                  0\n",
       "GenreIsAdventure               0\n",
       "GenreIsCasual                  0\n",
       "GenreIsStrategy                0\n",
       "GenreIsRPG                     0\n",
       "GenreIsSimulation              0\n",
       "GenreIsEarlyAccess             0\n",
       "GenreIsFreeToPlay              0\n",
       "GenreIsSports                  0\n",
       "GenreIsRacing                  0\n",
       "GenreIsMassivelyMultiplayer    0\n",
       "PriceCurrency                  0\n",
       "PriceInitial                   0\n",
       "PriceFinal                     0\n",
       "ShortDescrip                   0\n",
       "DetailedDescrip                0\n",
       "PCMinReqsText                  0\n",
       "PCRecReqsText                  0\n",
       "dtype: int64"
      ]
     },
     "execution_count": 33,
     "metadata": {},
     "output_type": "execute_result"
    }
   ],
   "source": [
    "df1.isnull().sum().sort_values(ascending=False)"
   ]
  },
  {
   "cell_type": "code",
   "execution_count": 31,
   "metadata": {},
   "outputs": [
    {
     "data": {
      "text/plain": [
       "(13357, 49)"
      ]
     },
     "execution_count": 31,
     "metadata": {},
     "output_type": "execute_result"
    }
   ],
   "source": [
    "df_final_2.shape"
   ]
  },
  {
   "cell_type": "markdown",
   "metadata": {},
   "source": [
    "## games_may2024_cleaned clean and process"
   ]
  },
  {
   "cell_type": "code",
   "execution_count": 34,
   "metadata": {},
   "outputs": [
    {
     "data": {
      "text/plain": [
       "(83646, 46)"
      ]
     },
     "execution_count": 34,
     "metadata": {},
     "output_type": "execute_result"
    }
   ],
   "source": [
    "games_may2024.shape"
   ]
  },
  {
   "cell_type": "code",
   "execution_count": 35,
   "metadata": {},
   "outputs": [
    {
     "data": {
      "text/plain": [
       "score_rank                  83605\n",
       "metacritic_url              79706\n",
       "reviews                     73363\n",
       "notes                       69437\n",
       "website                     43886\n",
       "support_url                 41565\n",
       "support_email               10579\n",
       "about_the_game                188\n",
       "detailed_description          166\n",
       "short_description             109\n",
       "name                            3\n",
       "AppID                           0\n",
       "dlc_count                       0\n",
       "release_date                    0\n",
       "header_image                    0\n",
       "required_age                    0\n",
       "price                           0\n",
       "windows                         0\n",
       "metacritic_score                0\n",
       "linux                           0\n",
       "achievements                    0\n",
       "mac                             0\n",
       "supported_languages             0\n",
       "full_audio_languages            0\n",
       "packages                        0\n",
       "developers                      0\n",
       "publishers                      0\n",
       "categories                      0\n",
       "genres                          0\n",
       "recommendations                 0\n",
       "screenshots                     0\n",
       "movies                          0\n",
       "user_score                      0\n",
       "positive                        0\n",
       "negative                        0\n",
       "estimated_owners                0\n",
       "average_playtime_forever        0\n",
       "average_playtime_2weeks         0\n",
       "median_playtime_forever         0\n",
       "median_playtime_2weeks          0\n",
       "peak_ccu                        0\n",
       "tags                            0\n",
       "pct_pos_total                   0\n",
       "num_reviews_total               0\n",
       "pct_pos_recent                  0\n",
       "num_reviews_recent              0\n",
       "dtype: int64"
      ]
     },
     "execution_count": 35,
     "metadata": {},
     "output_type": "execute_result"
    }
   ],
   "source": [
    "games_may2024.isnull().sum().sort_values(ascending=False)"
   ]
  },
  {
   "cell_type": "code",
   "execution_count": 36,
   "metadata": {},
   "outputs": [],
   "source": [
    "games_may2024= games_may2024.drop(columns=['average_playtime_2weeks', 'metacritic_url','website', 'notes','reviews', 'support_url',\n",
    "                                           'support_email','short_description','detailed_description', 'user_score','movies','median_playtime_2weeks',\n",
    "                                           'average_playtime_forever', 'average_playtime_2weeks', 'median_playtime_forever',\n",
    "                                           'peak_ccu','header_image','metacritic_score', 'metacritic_score', 'full_audio_languages', 'screenshots',\n",
    "                                           'score_rank'])\n",
    "games_may2024= games_may2024.dropna(subset=['about_the_game', 'name'])"
   ]
  },
  {
   "cell_type": "code",
   "execution_count": 37,
   "metadata": {},
   "outputs": [],
   "source": [
    "games_may2024[\"release_date\"]= pd.to_datetime(games_may2024['release_date'], errors= 'coerce' )\n",
    "games_may2024['year'] = games_may2024['release_date'].dt.year\n",
    "games_may2024['month'] = games_may2024['release_date'].dt.month\n",
    "games_may2024['day'] = games_may2024['release_date'].dt.day"
   ]
  },
  {
   "cell_type": "code",
   "execution_count": 38,
   "metadata": {},
   "outputs": [
    {
     "data": {
      "text/plain": [
       "AppID                           int64\n",
       "name                           object\n",
       "release_date           datetime64[ns]\n",
       "required_age                    int64\n",
       "price                         float64\n",
       "dlc_count                       int64\n",
       "about_the_game                 object\n",
       "windows                          bool\n",
       "mac                              bool\n",
       "linux                            bool\n",
       "achievements                    int64\n",
       "recommendations                 int64\n",
       "supported_languages            object\n",
       "packages                       object\n",
       "developers                     object\n",
       "publishers                     object\n",
       "categories                     object\n",
       "genres                         object\n",
       "positive                        int64\n",
       "negative                        int64\n",
       "estimated_owners               object\n",
       "tags                           object\n",
       "pct_pos_total                   int64\n",
       "num_reviews_total               int64\n",
       "pct_pos_recent                  int64\n",
       "num_reviews_recent              int64\n",
       "year                            int32\n",
       "month                           int32\n",
       "day                             int32\n",
       "dtype: object"
      ]
     },
     "execution_count": 38,
     "metadata": {},
     "output_type": "execute_result"
    }
   ],
   "source": [
    "games_may2024.dtypes"
   ]
  },
  {
   "cell_type": "code",
   "execution_count": 39,
   "metadata": {},
   "outputs": [],
   "source": [
    "games_may2024['rating'] = (games_may2024['positive'] / (games_may2024['positive'] + games_may2024['negative'])) * 100\n"
   ]
  },
  {
   "cell_type": "code",
   "execution_count": 40,
   "metadata": {},
   "outputs": [
    {
     "data": {
      "text/plain": [
       "rating                 13857\n",
       "AppID                      0\n",
       "release_date               0\n",
       "required_age               0\n",
       "price                      0\n",
       "name                       0\n",
       "about_the_game             0\n",
       "windows                    0\n",
       "mac                        0\n",
       "linux                      0\n",
       "achievements               0\n",
       "recommendations            0\n",
       "supported_languages        0\n",
       "dlc_count                  0\n",
       "packages                   0\n",
       "developers                 0\n",
       "categories                 0\n",
       "publishers                 0\n",
       "positive                   0\n",
       "negative                   0\n",
       "estimated_owners           0\n",
       "genres                     0\n",
       "tags                       0\n",
       "pct_pos_total              0\n",
       "pct_pos_recent             0\n",
       "num_reviews_total          0\n",
       "num_reviews_recent         0\n",
       "year                       0\n",
       "month                      0\n",
       "day                        0\n",
       "dtype: int64"
      ]
     },
     "execution_count": 40,
     "metadata": {},
     "output_type": "execute_result"
    }
   ],
   "source": [
    "games_may2024.isnull().sum().sort_values(ascending=False)"
   ]
  },
  {
   "cell_type": "code",
   "execution_count": 41,
   "metadata": {},
   "outputs": [
    {
     "data": {
      "text/html": [
       "<div>\n",
       "<style scoped>\n",
       "    .dataframe tbody tr th:only-of-type {\n",
       "        vertical-align: middle;\n",
       "    }\n",
       "\n",
       "    .dataframe tbody tr th {\n",
       "        vertical-align: top;\n",
       "    }\n",
       "\n",
       "    .dataframe thead th {\n",
       "        text-align: right;\n",
       "    }\n",
       "</style>\n",
       "<table border=\"1\" class=\"dataframe\">\n",
       "  <thead>\n",
       "    <tr style=\"text-align: right;\">\n",
       "      <th></th>\n",
       "      <th>AppID</th>\n",
       "      <th>year</th>\n",
       "      <th>month</th>\n",
       "      <th>day</th>\n",
       "      <th>CustomRating</th>\n",
       "    </tr>\n",
       "  </thead>\n",
       "  <tbody>\n",
       "    <tr>\n",
       "      <th>0</th>\n",
       "      <td>10</td>\n",
       "      <td>2000</td>\n",
       "      <td>11</td>\n",
       "      <td>1</td>\n",
       "      <td>-5.349292</td>\n",
       "    </tr>\n",
       "    <tr>\n",
       "      <th>1</th>\n",
       "      <td>20</td>\n",
       "      <td>1999</td>\n",
       "      <td>4</td>\n",
       "      <td>1</td>\n",
       "      <td>-3.779629</td>\n",
       "    </tr>\n",
       "    <tr>\n",
       "      <th>2</th>\n",
       "      <td>30</td>\n",
       "      <td>2003</td>\n",
       "      <td>5</td>\n",
       "      <td>1</td>\n",
       "      <td>-3.731648</td>\n",
       "    </tr>\n",
       "    <tr>\n",
       "      <th>3</th>\n",
       "      <td>40</td>\n",
       "      <td>2001</td>\n",
       "      <td>6</td>\n",
       "      <td>1</td>\n",
       "      <td>-3.296144</td>\n",
       "    </tr>\n",
       "    <tr>\n",
       "      <th>4</th>\n",
       "      <td>50</td>\n",
       "      <td>1999</td>\n",
       "      <td>11</td>\n",
       "      <td>1</td>\n",
       "      <td>-4.295354</td>\n",
       "    </tr>\n",
       "    <tr>\n",
       "      <th>...</th>\n",
       "      <td>...</td>\n",
       "      <td>...</td>\n",
       "      <td>...</td>\n",
       "      <td>...</td>\n",
       "      <td>...</td>\n",
       "    </tr>\n",
       "    <tr>\n",
       "      <th>83452</th>\n",
       "      <td>2979110</td>\n",
       "      <td>2024</td>\n",
       "      <td>5</td>\n",
       "      <td>24</td>\n",
       "      <td>-0.845098</td>\n",
       "    </tr>\n",
       "    <tr>\n",
       "      <th>83453</th>\n",
       "      <td>2980150</td>\n",
       "      <td>2024</td>\n",
       "      <td>5</td>\n",
       "      <td>14</td>\n",
       "      <td>NaN</td>\n",
       "    </tr>\n",
       "    <tr>\n",
       "      <th>83454</th>\n",
       "      <td>2981690</td>\n",
       "      <td>2024</td>\n",
       "      <td>5</td>\n",
       "      <td>22</td>\n",
       "      <td>NaN</td>\n",
       "    </tr>\n",
       "    <tr>\n",
       "      <th>83455</th>\n",
       "      <td>2983950</td>\n",
       "      <td>2024</td>\n",
       "      <td>5</td>\n",
       "      <td>23</td>\n",
       "      <td>NaN</td>\n",
       "    </tr>\n",
       "    <tr>\n",
       "      <th>83456</th>\n",
       "      <td>2984570</td>\n",
       "      <td>2024</td>\n",
       "      <td>5</td>\n",
       "      <td>18</td>\n",
       "      <td>NaN</td>\n",
       "    </tr>\n",
       "  </tbody>\n",
       "</table>\n",
       "<p>83457 rows × 5 columns</p>\n",
       "</div>"
      ],
      "text/plain": [
       "         AppID  year  month  day  CustomRating\n",
       "0           10  2000     11    1     -5.349292\n",
       "1           20  1999      4    1     -3.779629\n",
       "2           30  2003      5    1     -3.731648\n",
       "3           40  2001      6    1     -3.296144\n",
       "4           50  1999     11    1     -4.295354\n",
       "...        ...   ...    ...  ...           ...\n",
       "83452  2979110  2024      5   24     -0.845098\n",
       "83453  2980150  2024      5   14           NaN\n",
       "83454  2981690  2024      5   22           NaN\n",
       "83455  2983950  2024      5   23           NaN\n",
       "83456  2984570  2024      5   18           NaN\n",
       "\n",
       "[83457 rows x 5 columns]"
      ]
     },
     "execution_count": 41,
     "metadata": {},
     "output_type": "execute_result"
    }
   ],
   "source": [
    "import numpy as np\n",
    "games_may2024['TotalReviews'] = games_may2024['positive'] + games_may2024['negative']\n",
    "\n",
    "games_may2024['ReviewScore'] = games_may2024['positive'] / games_may2024['TotalReviews']\n",
    "\n",
    "# Calculate custom rating based on the given formula\n",
    "games_may2024['CustomRating'] = games_may2024['ReviewScore'] - (\n",
    "    (games_may2024['ReviewScore'] - 0.5) * 2\n",
    ") - np.log10(games_may2024['TotalReviews'] + 1)\n",
    "\n",
    "# Group by AppID, year, month, and day to calculate the rating for each day\n",
    "daily_ratings = games_may2024.groupby(['AppID', 'year', 'month', 'day']).agg({\n",
    "    'positive': 'sum',\n",
    "    'negative': 'sum',\n",
    "    'TotalReviews': 'sum',\n",
    "    'ReviewScore': 'mean',\n",
    "    'CustomRating': 'mean'\n",
    "}).reset_index()\n",
    "\n",
    "# Display the daily ratings with relevant columns\n",
    "daily_ratings[['AppID', 'year', 'month', 'day', 'CustomRating']]\n"
   ]
  },
  {
   "cell_type": "code",
   "execution_count": 42,
   "metadata": {},
   "outputs": [],
   "source": [
    "games_may2024= games_may2024.dropna(subset=['ReviewScore', 'CustomRating','rating'])"
   ]
  },
  {
   "cell_type": "code",
   "execution_count": 43,
   "metadata": {},
   "outputs": [
    {
     "data": {
      "text/plain": [
       "(83457, 9)"
      ]
     },
     "execution_count": 43,
     "metadata": {},
     "output_type": "execute_result"
    }
   ],
   "source": [
    "daily_ratings.shape"
   ]
  },
  {
   "cell_type": "code",
   "execution_count": 44,
   "metadata": {},
   "outputs": [
    {
     "data": {
      "text/plain": [
       "AppID               0\n",
       "year                0\n",
       "month               0\n",
       "day                 0\n",
       "positive            0\n",
       "negative            0\n",
       "TotalReviews        0\n",
       "ReviewScore     13857\n",
       "CustomRating    13857\n",
       "dtype: int64"
      ]
     },
     "execution_count": 44,
     "metadata": {},
     "output_type": "execute_result"
    }
   ],
   "source": [
    "daily_ratings.isnull().sum()"
   ]
  },
  {
   "cell_type": "code",
   "execution_count": 45,
   "metadata": {},
   "outputs": [],
   "source": [
    "daily_ratings= daily_ratings.dropna(subset=['ReviewScore', 'CustomRating'])\n",
    "games_may2024= games_may2024.dropna(subset=['rating'])\n"
   ]
  },
  {
   "cell_type": "code",
   "execution_count": 46,
   "metadata": {},
   "outputs": [
    {
     "data": {
      "text/plain": [
       "(69600, 9)"
      ]
     },
     "execution_count": 46,
     "metadata": {},
     "output_type": "execute_result"
    }
   ],
   "source": [
    "daily_ratings.shape"
   ]
  },
  {
   "cell_type": "markdown",
   "metadata": {},
   "source": [
    "## SteamCharts clean and process"
   ]
  },
  {
   "cell_type": "code",
   "execution_count": 47,
   "metadata": {},
   "outputs": [
    {
     "data": {
      "text/html": [
       "<div>\n",
       "<style scoped>\n",
       "    .dataframe tbody tr th:only-of-type {\n",
       "        vertical-align: middle;\n",
       "    }\n",
       "\n",
       "    .dataframe tbody tr th {\n",
       "        vertical-align: top;\n",
       "    }\n",
       "\n",
       "    .dataframe thead th {\n",
       "        text-align: right;\n",
       "    }\n",
       "</style>\n",
       "<table border=\"1\" class=\"dataframe\">\n",
       "  <thead>\n",
       "    <tr style=\"text-align: right;\">\n",
       "      <th></th>\n",
       "      <th>gamename</th>\n",
       "      <th>year</th>\n",
       "      <th>month</th>\n",
       "      <th>avg</th>\n",
       "      <th>gain</th>\n",
       "      <th>peak</th>\n",
       "      <th>avg_peak_perc</th>\n",
       "    </tr>\n",
       "  </thead>\n",
       "  <tbody>\n",
       "    <tr>\n",
       "      <th>0</th>\n",
       "      <td>Counter-Strike: Global Offensive</td>\n",
       "      <td>2021</td>\n",
       "      <td>February</td>\n",
       "      <td>741013.24</td>\n",
       "      <td>-2196.42</td>\n",
       "      <td>1123485</td>\n",
       "      <td>65.9567%</td>\n",
       "    </tr>\n",
       "    <tr>\n",
       "      <th>1</th>\n",
       "      <td>Counter-Strike: Global Offensive</td>\n",
       "      <td>2021</td>\n",
       "      <td>January</td>\n",
       "      <td>743209.66</td>\n",
       "      <td>25405.91</td>\n",
       "      <td>1124553</td>\n",
       "      <td>66.0893%</td>\n",
       "    </tr>\n",
       "    <tr>\n",
       "      <th>2</th>\n",
       "      <td>Counter-Strike: Global Offensive</td>\n",
       "      <td>2020</td>\n",
       "      <td>December</td>\n",
       "      <td>717803.75</td>\n",
       "      <td>49049.17</td>\n",
       "      <td>1164396</td>\n",
       "      <td>61.646%</td>\n",
       "    </tr>\n",
       "    <tr>\n",
       "      <th>3</th>\n",
       "      <td>Counter-Strike: Global Offensive</td>\n",
       "      <td>2020</td>\n",
       "      <td>November</td>\n",
       "      <td>668754.58</td>\n",
       "      <td>55087.89</td>\n",
       "      <td>1037464</td>\n",
       "      <td>64.4605%</td>\n",
       "    </tr>\n",
       "    <tr>\n",
       "      <th>4</th>\n",
       "      <td>Counter-Strike: Global Offensive</td>\n",
       "      <td>2020</td>\n",
       "      <td>October</td>\n",
       "      <td>613666.69</td>\n",
       "      <td>6816.37</td>\n",
       "      <td>943876</td>\n",
       "      <td>65.0156%</td>\n",
       "    </tr>\n",
       "    <tr>\n",
       "      <th>...</th>\n",
       "      <td>...</td>\n",
       "      <td>...</td>\n",
       "      <td>...</td>\n",
       "      <td>...</td>\n",
       "      <td>...</td>\n",
       "      <td>...</td>\n",
       "      <td>...</td>\n",
       "    </tr>\n",
       "    <tr>\n",
       "      <th>83784</th>\n",
       "      <td>Steel Division: Normandy 44</td>\n",
       "      <td>2017</td>\n",
       "      <td>July</td>\n",
       "      <td>421.60</td>\n",
       "      <td>-485.13</td>\n",
       "      <td>987</td>\n",
       "      <td>42.7153%</td>\n",
       "    </tr>\n",
       "    <tr>\n",
       "      <th>83785</th>\n",
       "      <td>Steel Division: Normandy 44</td>\n",
       "      <td>2017</td>\n",
       "      <td>June</td>\n",
       "      <td>906.74</td>\n",
       "      <td>-231.92</td>\n",
       "      <td>2584</td>\n",
       "      <td>35.0906%</td>\n",
       "    </tr>\n",
       "    <tr>\n",
       "      <th>83786</th>\n",
       "      <td>Steel Division: Normandy 44</td>\n",
       "      <td>2017</td>\n",
       "      <td>May</td>\n",
       "      <td>1138.66</td>\n",
       "      <td>415.61</td>\n",
       "      <td>4606</td>\n",
       "      <td>24.7212%</td>\n",
       "    </tr>\n",
       "    <tr>\n",
       "      <th>83787</th>\n",
       "      <td>Steel Division: Normandy 44</td>\n",
       "      <td>2017</td>\n",
       "      <td>April</td>\n",
       "      <td>723.05</td>\n",
       "      <td>720.21</td>\n",
       "      <td>1911</td>\n",
       "      <td>37.8362%</td>\n",
       "    </tr>\n",
       "    <tr>\n",
       "      <th>83788</th>\n",
       "      <td>Steel Division: Normandy 44</td>\n",
       "      <td>2017</td>\n",
       "      <td>March</td>\n",
       "      <td>2.84</td>\n",
       "      <td>NaN</td>\n",
       "      <td>14</td>\n",
       "      <td>20.2857%</td>\n",
       "    </tr>\n",
       "  </tbody>\n",
       "</table>\n",
       "<p>83789 rows × 7 columns</p>\n",
       "</div>"
      ],
      "text/plain": [
       "                               gamename  year      month        avg      gain  \\\n",
       "0      Counter-Strike: Global Offensive  2021  February   741013.24  -2196.42   \n",
       "1      Counter-Strike: Global Offensive  2021   January   743209.66  25405.91   \n",
       "2      Counter-Strike: Global Offensive  2020  December   717803.75  49049.17   \n",
       "3      Counter-Strike: Global Offensive  2020  November   668754.58  55087.89   \n",
       "4      Counter-Strike: Global Offensive  2020   October   613666.69   6816.37   \n",
       "...                                 ...   ...        ...        ...       ...   \n",
       "83784       Steel Division: Normandy 44  2017      July      421.60   -485.13   \n",
       "83785       Steel Division: Normandy 44  2017      June      906.74   -231.92   \n",
       "83786       Steel Division: Normandy 44  2017       May     1138.66    415.61   \n",
       "83787       Steel Division: Normandy 44  2017     April      723.05    720.21   \n",
       "83788       Steel Division: Normandy 44  2017     March        2.84       NaN   \n",
       "\n",
       "          peak avg_peak_perc  \n",
       "0      1123485      65.9567%  \n",
       "1      1124553      66.0893%  \n",
       "2      1164396       61.646%  \n",
       "3      1037464      64.4605%  \n",
       "4       943876      65.0156%  \n",
       "...        ...           ...  \n",
       "83784      987      42.7153%  \n",
       "83785     2584      35.0906%  \n",
       "83786     4606      24.7212%  \n",
       "83787     1911      37.8362%  \n",
       "83788       14      20.2857%  \n",
       "\n",
       "[83789 rows x 7 columns]"
      ]
     },
     "execution_count": 47,
     "metadata": {},
     "output_type": "execute_result"
    }
   ],
   "source": [
    "steamchart"
   ]
  },
  {
   "cell_type": "code",
   "execution_count": 48,
   "metadata": {},
   "outputs": [
    {
     "data": {
      "text/plain": [
       "(83789, 7)"
      ]
     },
     "execution_count": 48,
     "metadata": {},
     "output_type": "execute_result"
    }
   ],
   "source": [
    "steamchart.shape"
   ]
  },
  {
   "cell_type": "code",
   "execution_count": 49,
   "metadata": {},
   "outputs": [
    {
     "data": {
      "text/plain": [
       "gain             1260\n",
       "year                0\n",
       "gamename            0\n",
       "month               0\n",
       "avg                 0\n",
       "peak                0\n",
       "avg_peak_perc       0\n",
       "dtype: int64"
      ]
     },
     "execution_count": 49,
     "metadata": {},
     "output_type": "execute_result"
    }
   ],
   "source": [
    "steamchart.isnull().sum().sort_values(ascending=False)"
   ]
  },
  {
   "cell_type": "code",
   "execution_count": 50,
   "metadata": {},
   "outputs": [],
   "source": [
    "steamchart=steamchart.dropna(subset=['gain'])"
   ]
  },
  {
   "cell_type": "code",
   "execution_count": 51,
   "metadata": {},
   "outputs": [
    {
     "data": {
      "text/plain": [
       "gamename         0\n",
       "year             0\n",
       "month            0\n",
       "avg              0\n",
       "gain             0\n",
       "peak             0\n",
       "avg_peak_perc    0\n",
       "dtype: int64"
      ]
     },
     "execution_count": 51,
     "metadata": {},
     "output_type": "execute_result"
    }
   ],
   "source": [
    "steamchart.isnull().sum().sort_values(ascending=False)"
   ]
  },
  {
   "cell_type": "code",
   "execution_count": 52,
   "metadata": {},
   "outputs": [
    {
     "data": {
      "text/plain": [
       "gamename          object\n",
       "year               int64\n",
       "month             object\n",
       "avg              float64\n",
       "gain             float64\n",
       "peak               int64\n",
       "avg_peak_perc     object\n",
       "dtype: object"
      ]
     },
     "execution_count": 52,
     "metadata": {},
     "output_type": "execute_result"
    }
   ],
   "source": [
    "steamchart.dtypes"
   ]
  },
  {
   "cell_type": "code",
   "execution_count": 53,
   "metadata": {},
   "outputs": [
    {
     "data": {
      "text/html": [
       "<div>\n",
       "<style scoped>\n",
       "    .dataframe tbody tr th:only-of-type {\n",
       "        vertical-align: middle;\n",
       "    }\n",
       "\n",
       "    .dataframe tbody tr th {\n",
       "        vertical-align: top;\n",
       "    }\n",
       "\n",
       "    .dataframe thead th {\n",
       "        text-align: right;\n",
       "    }\n",
       "</style>\n",
       "<table border=\"1\" class=\"dataframe\">\n",
       "  <thead>\n",
       "    <tr style=\"text-align: right;\">\n",
       "      <th></th>\n",
       "      <th>avg_peak_perc</th>\n",
       "    </tr>\n",
       "  </thead>\n",
       "  <tbody>\n",
       "    <tr>\n",
       "      <th>0</th>\n",
       "      <td>65.9567%</td>\n",
       "    </tr>\n",
       "    <tr>\n",
       "      <th>1</th>\n",
       "      <td>66.0893%</td>\n",
       "    </tr>\n",
       "    <tr>\n",
       "      <th>2</th>\n",
       "      <td>61.646%</td>\n",
       "    </tr>\n",
       "    <tr>\n",
       "      <th>3</th>\n",
       "      <td>64.4605%</td>\n",
       "    </tr>\n",
       "    <tr>\n",
       "      <th>4</th>\n",
       "      <td>65.0156%</td>\n",
       "    </tr>\n",
       "    <tr>\n",
       "      <th>...</th>\n",
       "      <td>...</td>\n",
       "    </tr>\n",
       "    <tr>\n",
       "      <th>83783</th>\n",
       "      <td>47.401%</td>\n",
       "    </tr>\n",
       "    <tr>\n",
       "      <th>83784</th>\n",
       "      <td>42.7153%</td>\n",
       "    </tr>\n",
       "    <tr>\n",
       "      <th>83785</th>\n",
       "      <td>35.0906%</td>\n",
       "    </tr>\n",
       "    <tr>\n",
       "      <th>83786</th>\n",
       "      <td>24.7212%</td>\n",
       "    </tr>\n",
       "    <tr>\n",
       "      <th>83787</th>\n",
       "      <td>37.8362%</td>\n",
       "    </tr>\n",
       "  </tbody>\n",
       "</table>\n",
       "<p>82529 rows × 1 columns</p>\n",
       "</div>"
      ],
      "text/plain": [
       "      avg_peak_perc\n",
       "0          65.9567%\n",
       "1          66.0893%\n",
       "2           61.646%\n",
       "3          64.4605%\n",
       "4          65.0156%\n",
       "...             ...\n",
       "83783       47.401%\n",
       "83784      42.7153%\n",
       "83785      35.0906%\n",
       "83786      24.7212%\n",
       "83787      37.8362%\n",
       "\n",
       "[82529 rows x 1 columns]"
      ]
     },
     "execution_count": 53,
     "metadata": {},
     "output_type": "execute_result"
    }
   ],
   "source": [
    "steamchart[['avg_peak_perc']]"
   ]
  },
  {
   "cell_type": "code",
   "execution_count": 54,
   "metadata": {},
   "outputs": [
    {
     "name": "stderr",
     "output_type": "stream",
     "text": [
      "/tmp/ipykernel_31995/1496661087.py:1: SettingWithCopyWarning: \n",
      "A value is trying to be set on a copy of a slice from a DataFrame.\n",
      "Try using .loc[row_indexer,col_indexer] = value instead\n",
      "\n",
      "See the caveats in the documentation: https://pandas.pydata.org/pandas-docs/stable/user_guide/indexing.html#returning-a-view-versus-a-copy\n",
      "  steamchart['avg_peak_perc'] = steamchart['avg_peak_perc'].str.rstrip('%').astype(float)\n",
      "/tmp/ipykernel_31995/1496661087.py:2: SettingWithCopyWarning: \n",
      "A value is trying to be set on a copy of a slice from a DataFrame.\n",
      "Try using .loc[row_indexer,col_indexer] = value instead\n",
      "\n",
      "See the caveats in the documentation: https://pandas.pydata.org/pandas-docs/stable/user_guide/indexing.html#returning-a-view-versus-a-copy\n",
      "  steamchart['avg_peak_perc'] = steamchart['avg_peak_perc'] / 100\n"
     ]
    }
   ],
   "source": [
    "steamchart['avg_peak_perc'] = steamchart['avg_peak_perc'].str.rstrip('%').astype(float)\n",
    "steamchart['avg_peak_perc'] = steamchart['avg_peak_perc'] / 100\n"
   ]
  },
  {
   "cell_type": "code",
   "execution_count": 55,
   "metadata": {},
   "outputs": [
    {
     "data": {
      "text/plain": [
       "gamename          object\n",
       "year               int64\n",
       "month             object\n",
       "avg              float64\n",
       "gain             float64\n",
       "peak               int64\n",
       "avg_peak_perc    float64\n",
       "dtype: object"
      ]
     },
     "execution_count": 55,
     "metadata": {},
     "output_type": "execute_result"
    }
   ],
   "source": [
    "steamchart.dtypes"
   ]
  },
  {
   "cell_type": "code",
   "execution_count": 56,
   "metadata": {},
   "outputs": [
    {
     "data": {
      "text/html": [
       "<div>\n",
       "<style scoped>\n",
       "    .dataframe tbody tr th:only-of-type {\n",
       "        vertical-align: middle;\n",
       "    }\n",
       "\n",
       "    .dataframe tbody tr th {\n",
       "        vertical-align: top;\n",
       "    }\n",
       "\n",
       "    .dataframe thead th {\n",
       "        text-align: right;\n",
       "    }\n",
       "</style>\n",
       "<table border=\"1\" class=\"dataframe\">\n",
       "  <thead>\n",
       "    <tr style=\"text-align: right;\">\n",
       "      <th></th>\n",
       "      <th>avg_peak_perc</th>\n",
       "    </tr>\n",
       "  </thead>\n",
       "  <tbody>\n",
       "    <tr>\n",
       "      <th>0</th>\n",
       "      <td>0.659567</td>\n",
       "    </tr>\n",
       "    <tr>\n",
       "      <th>1</th>\n",
       "      <td>0.660893</td>\n",
       "    </tr>\n",
       "    <tr>\n",
       "      <th>2</th>\n",
       "      <td>0.616460</td>\n",
       "    </tr>\n",
       "    <tr>\n",
       "      <th>3</th>\n",
       "      <td>0.644605</td>\n",
       "    </tr>\n",
       "    <tr>\n",
       "      <th>4</th>\n",
       "      <td>0.650156</td>\n",
       "    </tr>\n",
       "    <tr>\n",
       "      <th>...</th>\n",
       "      <td>...</td>\n",
       "    </tr>\n",
       "    <tr>\n",
       "      <th>83783</th>\n",
       "      <td>0.474010</td>\n",
       "    </tr>\n",
       "    <tr>\n",
       "      <th>83784</th>\n",
       "      <td>0.427153</td>\n",
       "    </tr>\n",
       "    <tr>\n",
       "      <th>83785</th>\n",
       "      <td>0.350906</td>\n",
       "    </tr>\n",
       "    <tr>\n",
       "      <th>83786</th>\n",
       "      <td>0.247212</td>\n",
       "    </tr>\n",
       "    <tr>\n",
       "      <th>83787</th>\n",
       "      <td>0.378362</td>\n",
       "    </tr>\n",
       "  </tbody>\n",
       "</table>\n",
       "<p>82529 rows × 1 columns</p>\n",
       "</div>"
      ],
      "text/plain": [
       "       avg_peak_perc\n",
       "0           0.659567\n",
       "1           0.660893\n",
       "2           0.616460\n",
       "3           0.644605\n",
       "4           0.650156\n",
       "...              ...\n",
       "83783       0.474010\n",
       "83784       0.427153\n",
       "83785       0.350906\n",
       "83786       0.247212\n",
       "83787       0.378362\n",
       "\n",
       "[82529 rows x 1 columns]"
      ]
     },
     "execution_count": 56,
     "metadata": {},
     "output_type": "execute_result"
    }
   ],
   "source": [
    "steamchart[['avg_peak_perc']]"
   ]
  },
  {
   "cell_type": "code",
   "execution_count": 57,
   "metadata": {},
   "outputs": [
    {
     "data": {
      "text/plain": [
       "(82529, 7)"
      ]
     },
     "execution_count": 57,
     "metadata": {},
     "output_type": "execute_result"
    }
   ],
   "source": [
    "steamchart.shape"
   ]
  },
  {
   "cell_type": "code",
   "execution_count": null,
   "metadata": {},
   "outputs": [],
   "source": []
  },
  {
   "cell_type": "markdown",
   "metadata": {},
   "source": [
    "## save cleandataset"
   ]
  },
  {
   "cell_type": "code",
   "execution_count": 67,
   "metadata": {},
   "outputs": [],
   "source": [
    "#steamchart.to_csv(\"steamchart_clean.csv\")"
   ]
  },
  {
   "cell_type": "code",
   "execution_count": 68,
   "metadata": {},
   "outputs": [],
   "source": [
    "#games_may2024.to_csv(\"games_may_clean.csv\")"
   ]
  },
  {
   "cell_type": "code",
   "execution_count": 59,
   "metadata": {},
   "outputs": [],
   "source": [
    "#df_final_2.to_csv(\"games_features_clean.csv\")"
   ]
  },
  {
   "cell_type": "code",
   "execution_count": null,
   "metadata": {},
   "outputs": [],
   "source": []
  },
  {
   "cell_type": "code",
   "execution_count": null,
   "metadata": {},
   "outputs": [],
   "source": []
  },
  {
   "cell_type": "code",
   "execution_count": null,
   "metadata": {},
   "outputs": [],
   "source": []
  },
  {
   "cell_type": "code",
   "execution_count": null,
   "metadata": {},
   "outputs": [],
   "source": []
  },
  {
   "cell_type": "code",
   "execution_count": null,
   "metadata": {},
   "outputs": [],
   "source": []
  },
  {
   "cell_type": "code",
   "execution_count": null,
   "metadata": {},
   "outputs": [],
   "source": []
  },
  {
   "cell_type": "code",
   "execution_count": null,
   "metadata": {},
   "outputs": [],
   "source": []
  },
  {
   "cell_type": "code",
   "execution_count": null,
   "metadata": {},
   "outputs": [],
   "source": []
  },
  {
   "cell_type": "code",
   "execution_count": null,
   "metadata": {},
   "outputs": [],
   "source": []
  },
  {
   "cell_type": "code",
   "execution_count": null,
   "metadata": {},
   "outputs": [],
   "source": []
  },
  {
   "cell_type": "code",
   "execution_count": null,
   "metadata": {},
   "outputs": [],
   "source": []
  },
  {
   "cell_type": "code",
   "execution_count": null,
   "metadata": {},
   "outputs": [],
   "source": []
  },
  {
   "cell_type": "code",
   "execution_count": null,
   "metadata": {},
   "outputs": [],
   "source": []
  },
  {
   "cell_type": "code",
   "execution_count": null,
   "metadata": {},
   "outputs": [],
   "source": []
  },
  {
   "cell_type": "code",
   "execution_count": null,
   "metadata": {},
   "outputs": [],
   "source": []
  },
  {
   "cell_type": "code",
   "execution_count": null,
   "metadata": {},
   "outputs": [],
   "source": []
  },
  {
   "cell_type": "code",
   "execution_count": null,
   "metadata": {},
   "outputs": [],
   "source": []
  },
  {
   "cell_type": "code",
   "execution_count": null,
   "metadata": {},
   "outputs": [],
   "source": []
  },
  {
   "cell_type": "code",
   "execution_count": null,
   "metadata": {},
   "outputs": [],
   "source": []
  },
  {
   "cell_type": "code",
   "execution_count": null,
   "metadata": {},
   "outputs": [],
   "source": []
  },
  {
   "cell_type": "code",
   "execution_count": null,
   "metadata": {},
   "outputs": [],
   "source": []
  },
  {
   "cell_type": "code",
   "execution_count": null,
   "metadata": {},
   "outputs": [],
   "source": []
  },
  {
   "cell_type": "code",
   "execution_count": null,
   "metadata": {},
   "outputs": [],
   "source": []
  }
 ],
 "metadata": {
  "kernelspec": {
   "display_name": "Python 3",
   "language": "python",
   "name": "python3"
  },
  "language_info": {
   "codemirror_mode": {
    "name": "ipython",
    "version": 3
   },
   "file_extension": ".py",
   "mimetype": "text/x-python",
   "name": "python",
   "nbconvert_exporter": "python",
   "pygments_lexer": "ipython3",
   "version": "3.11.8"
  }
 },
 "nbformat": 4,
 "nbformat_minor": 4
}
