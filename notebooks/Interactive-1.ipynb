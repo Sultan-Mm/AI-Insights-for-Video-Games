{
 "cells": [
  {
   "cell_type": "markdown",
   "metadata": {},
   "source": [
    "Connected to Python 3.10.6"
   ]
  },
  {
   "cell_type": "code",
   "execution_count": null,
   "id": "f3784172-ba58-41cf-9d47-1c0afb5c443f",
   "metadata": {},
   "outputs": [],
   "source": [
    "df_games.columns"
   ]
  }
 ],
 "metadata": {
  "kernelspec": {
   "display_name": "Python 3",
   "language": "python",
   "name": "python3"
  },
  "language_info": {
   "name": "python",
   "version": "3.10.6"
  }
 },
 "nbformat": 4,
 "nbformat_minor": 2
}
