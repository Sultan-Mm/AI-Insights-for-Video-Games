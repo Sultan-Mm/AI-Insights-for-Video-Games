{
 "cells": [
  {
   "cell_type": "code",
   "execution_count": 1,
   "metadata": {},
   "outputs": [
    {
     "name": "stdout",
     "output_type": "stream",
     "text": [
      "Data scraped and saved to steamspy_2023_data.csv\n"
     ]
    }
   ],
   "source": [
    "import requests\n",
    "from bs4 import BeautifulSoup\n",
    "import pandas as pd\n",
    "\n",
    "# URL of the page to scrape\n",
    "url = 'https://steamspy.com/year/2020'\n",
    "\n",
    "# Send a GET request to the URL\n",
    "response = requests.get(url)\n",
    "\n",
    "# Check if the request was successful\n",
    "if response.status_code == 200:\n",
    "    # Parse the HTML content\n",
    "    soup = BeautifulSoup(response.content, 'html.parser')\n",
    "\n",
    "    # Find the table on the page\n",
    "    table = soup.find('table')\n",
    "\n",
    "    # Initialize a list to hold the data\n",
    "    data = []\n",
    "\n",
    "    # Loop through each row in the table\n",
    "    for row in table.find_all('tr')[1:]:  # Skip the header row\n",
    "        cols = row.find_all('td')\n",
    "        if cols:\n",
    "            # Extracting the App ID from the anchor tag\n",
    "            game_link = cols[1].find('a')\n",
    "            app_id = game_link['href'].split('/app/')[1] if game_link else None\n",
    "\n",
    "            data.append({\n",
    "                'AppID': app_id,\n",
    "                'Game': cols[1].text.strip(),\n",
    "                'Release Date': cols[2].text.strip(),\n",
    "                'Price': cols[3].text.strip(),\n",
    "                'Score Rank': cols[4].text.strip(),\n",
    "                'Owners': cols[5].text.strip(),\n",
    "                'Playtime (Median)': cols[6].text.strip(),\n",
    "            })\n",
    "\n",
    "    # Convert the data into a DataFrame\n",
    "    df = pd.DataFrame(data)\n",
    "\n",
    "    # Save the DataFrame to a CSV file\n",
    "    df.to_csv('steamspy_2022_data.csv', index=False)\n",
    "\n",
    "    print('Data scraped and saved to steamspy_2023_data.csv')\n",
    "else:\n",
    "    print(f\"Failed to retrieve data. Status code: {response.status_code}\")\n"
   ]
  }
 ],
 "metadata": {
  "kernelspec": {
   "display_name": "Python 3",
   "language": "python",
   "name": "python3"
  },
  "language_info": {
   "codemirror_mode": {
    "name": "ipython",
    "version": 3
   },
   "file_extension": ".py",
   "mimetype": "text/x-python",
   "name": "python",
   "nbconvert_exporter": "python",
   "pygments_lexer": "ipython3",
   "version": "3.10.6"
  }
 },
 "nbformat": 4,
 "nbformat_minor": 2
}
